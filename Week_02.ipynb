{
  "cells": [
    {
      "cell_type": "markdown",
      "metadata": {
        "id": "view-in-github",
        "colab_type": "text"
      },
      "source": [
        "<a href=\"https://colab.research.google.com/github/goterps2018/test3/blob/main/Week_02.ipynb\" target=\"_parent\"><img src=\"https://colab.research.google.com/assets/colab-badge.svg\" alt=\"Open In Colab\"/></a>"
      ]
    },
    {
      "cell_type": "markdown",
      "metadata": {
        "id": "5AJ-hGKnBCYT"
      },
      "source": [
        "# Comments & Data Types"
      ]
    },
    {
      "cell_type": "code",
      "execution_count": null,
      "metadata": {
        "id": "fYXyITT0BCYW",
        "outputId": "afc2daff-b228-409e-87a9-3e05d5fd9d40"
      },
      "outputs": [
        {
          "name": "stdout",
          "output_type": "stream",
          "text": [
            "Hello\n"
          ]
        }
      ],
      "source": [
        "# this is a comment\n",
        "\n",
        "\"\"\"\n",
        "    this is a\n",
        "    multi-line\n",
        "    comment\n",
        "\"\"\"\n",
        "\n",
        "print('Hello') # this is also a comment"
      ]
    },
    {
      "cell_type": "code",
      "execution_count": 2,
      "metadata": {
        "scrolled": true,
        "id": "a5DT_DW9BCYY",
        "outputId": "187f80fd-5d53-4ce6-87b8-c5257f7bbaa2",
        "colab": {
          "base_uri": "https://localhost:8080/"
        }
      },
      "outputs": [
        {
          "output_type": "stream",
          "name": "stdout",
          "text": [
            "2\n",
            "10\n"
          ]
        }
      ],
      "source": [
        "# the following are all integers\n",
        "\n",
        "print(2)\n",
        "\n",
        "print(10)"
      ]
    },
    {
      "cell_type": "code",
      "execution_count": 3,
      "metadata": {
        "id": "1VK3SB2KBCYZ",
        "outputId": "4a845488-a85a-4c19-f1bb-d89b863459eb",
        "colab": {
          "base_uri": "https://localhost:8080/"
        }
      },
      "outputs": [
        {
          "output_type": "stream",
          "name": "stdout",
          "text": [
            "10.953\n",
            "8.0\n"
          ]
        }
      ],
      "source": [
        "# the following are all floats\n",
        "\n",
        "print(10.953)\n",
        "\n",
        "print(8.0) # even this number is a float"
      ]
    },
    {
      "cell_type": "code",
      "execution_count": null,
      "metadata": {
        "id": "ZG1f4k6_BCYa",
        "outputId": "1c227273-8524-46c5-a5a3-8ea13cabfab7"
      },
      "outputs": [
        {
          "name": "stdout",
          "output_type": "stream",
          "text": [
            "True\n",
            "False\n"
          ]
        }
      ],
      "source": [
        "# the following are booleans\n",
        "\n",
        "print(True)\n",
        "\n",
        "print(False)"
      ]
    },
    {
      "cell_type": "code",
      "execution_count": 4,
      "metadata": {
        "id": "XYgQ669jBCYa",
        "outputId": "f4fbe416-7981-4495-f1c9-520e9649eeb5",
        "colab": {
          "base_uri": "https://localhost:8080/"
        }
      },
      "outputs": [
        {
          "output_type": "stream",
          "name": "stdout",
          "text": [
            "\n",
            "There's a snake in my boot!\n",
            "True\n"
          ]
        }
      ],
      "source": [
        "# the following are strings\n",
        "\n",
        "print('')\n",
        "\n",
        "print(\"There's a snake in my boot!\")\n",
        "\n",
        "print('True')"
      ]
    },
    {
      "cell_type": "code",
      "source": [
        "print('Sanjeev Kalanidhi')"
      ],
      "metadata": {
        "id": "HeunmuJ8RUK-",
        "outputId": "df1a015b-f398-4375-8bb8-a9948858e72d",
        "colab": {
          "base_uri": "https://localhost:8080/"
        }
      },
      "execution_count": 5,
      "outputs": [
        {
          "output_type": "stream",
          "name": "stdout",
          "text": [
            "Sanjeev Kalanidhi\n"
          ]
        }
      ]
    },
    {
      "cell_type": "code",
      "source": [
        "type(True)"
      ],
      "metadata": {
        "id": "5lkCFcveReZX",
        "outputId": "e5c589fd-8467-4bc2-a4b5-307f0ce36671",
        "colab": {
          "base_uri": "https://localhost:8080/"
        }
      },
      "execution_count": 10,
      "outputs": [
        {
          "output_type": "execute_result",
          "data": {
            "text/plain": [
              "bool"
            ]
          },
          "metadata": {},
          "execution_count": 10
        }
      ]
    },
    {
      "cell_type": "markdown",
      "metadata": {
        "id": "G5Tmj8rgBCYa"
      },
      "source": [
        "# Variables"
      ]
    },
    {
      "cell_type": "code",
      "source": [
        "num1=5\n",
        "num2=8.4"
      ],
      "metadata": {
        "id": "j3RWaVjvTo_e"
      },
      "execution_count": 13,
      "outputs": []
    },
    {
      "cell_type": "code",
      "source": [
        "print(num1,num2)"
      ],
      "metadata": {
        "id": "V1aiXm7uUPc1",
        "outputId": "2a60236c-576c-43d8-ca11-cf43c3e8d12d",
        "colab": {
          "base_uri": "https://localhost:8080/"
        }
      },
      "execution_count": 14,
      "outputs": [
        {
          "output_type": "stream",
          "name": "stdout",
          "text": [
            "5 8.4\n"
          ]
        }
      ]
    },
    {
      "cell_type": "code",
      "source": [
        "switch=True\n",
        "print(switch)"
      ],
      "metadata": {
        "id": "4xpfMITPUZiG",
        "outputId": "06921b6d-1172-448c-ad22-092ca9fbc8ab",
        "colab": {
          "base_uri": "https://localhost:8080/"
        }
      },
      "execution_count": 16,
      "outputs": [
        {
          "output_type": "stream",
          "name": "stdout",
          "text": [
            "True\n"
          ]
        }
      ]
    },
    {
      "cell_type": "code",
      "source": [
        "fav='9'\n",
        "name='Sanjeev'\n",
        "print(name, fav)"
      ],
      "metadata": {
        "id": "QN0wgFabUsBN",
        "outputId": "71fcc8f1-5e09-4a0f-acb9-0e27527a055d",
        "colab": {
          "base_uri": "https://localhost:8080/"
        }
      },
      "execution_count": 17,
      "outputs": [
        {
          "output_type": "stream",
          "name": "stdout",
          "text": [
            "Sanjeev 9\n"
          ]
        }
      ]
    },
    {
      "cell_type": "code",
      "source": [
        "result=num1+num2\n",
        "print(result)"
      ],
      "metadata": {
        "id": "C0SvrB9RU_Im",
        "outputId": "2264e404-650b-42c3-ea64-1b79fa80e1be",
        "colab": {
          "base_uri": "https://localhost:8080/"
        }
      },
      "execution_count": 19,
      "outputs": [
        {
          "output_type": "stream",
          "name": "stdout",
          "text": [
            "13.4\n"
          ]
        }
      ]
    },
    {
      "cell_type": "code",
      "execution_count": 20,
      "metadata": {
        "scrolled": true,
        "id": "gJcQ66YrBCYa",
        "outputId": "e07759c2-b30a-4281-8a44-d54c343ded40",
        "colab": {
          "base_uri": "https://localhost:8080/",
          "height": 184
        }
      },
      "outputs": [
        {
          "output_type": "error",
          "ename": "NameError",
          "evalue": "ignored",
          "traceback": [
            "\u001b[0;31m---------------------------------------------------------------------------\u001b[0m",
            "\u001b[0;31mNameError\u001b[0m                                 Traceback (most recent call last)",
            "\u001b[0;32m<ipython-input-20-b8fe0d88be6d>\u001b[0m in \u001b[0;36m<module>\u001b[0;34m\u001b[0m\n\u001b[1;32m      1\u001b[0m \u001b[0mSport\u001b[0m \u001b[0;34m=\u001b[0m \u001b[0;34m'baseball'\u001b[0m    \u001b[0;31m# capital 'S'\u001b[0m\u001b[0;34m\u001b[0m\u001b[0;34m\u001b[0m\u001b[0m\n\u001b[0;32m----> 2\u001b[0;31m \u001b[0mprint\u001b[0m\u001b[0;34m(\u001b[0m\u001b[0msport\u001b[0m\u001b[0;34m)\u001b[0m          \u001b[0;31m# lowercase 's'\u001b[0m\u001b[0;34m\u001b[0m\u001b[0;34m\u001b[0m\u001b[0m\n\u001b[0m",
            "\u001b[0;31mNameError\u001b[0m: name 'sport' is not defined"
          ]
        }
      ],
      "source": [
        "Sport = 'baseball'    # capital 'S'\n",
        "print(sport)          # lowercase 's'"
      ]
    },
    {
      "cell_type": "code",
      "execution_count": null,
      "metadata": {
        "id": "q9s_OcHBBCYb",
        "outputId": "5284b2c2-188d-4116-87ad-709377b903bd"
      },
      "outputs": [
        {
          "name": "stdout",
          "output_type": "stream",
          "text": [
            "5 8.4\n"
          ]
        }
      ],
      "source": [
        "num1 = 5           # storing an integer into a variable\n",
        "\n",
        "num2 = 8.4         # storing a float into a variable\n",
        "\n",
        "print(num1, num2)  # you can print multiple items using commas"
      ]
    },
    {
      "cell_type": "code",
      "execution_count": null,
      "metadata": {
        "id": "Slm_6pNIBCYc",
        "outputId": "96c4c629-6240-4d2e-8a1f-a60fb52514a7"
      },
      "outputs": [
        {
          "name": "stdout",
          "output_type": "stream",
          "text": [
            "True\n"
          ]
        }
      ],
      "source": [
        "# storing a boolean into a variable\n",
        "\n",
        "switch = True\n",
        "\n",
        "print(switch)"
      ]
    },
    {
      "cell_type": "code",
      "execution_count": null,
      "metadata": {
        "id": "D3bONWejBCYc",
        "outputId": "2247f93c-73c7-4432-c649-fcbce2d6227b"
      },
      "outputs": [
        {
          "name": "stdout",
          "output_type": "stream",
          "text": [
            "John Smith 9\n"
          ]
        }
      ],
      "source": [
        "# storing strings into a variable\n",
        "\n",
        "name = 'John Smith'\n",
        "\n",
        "fav_number = '9'\n",
        "\n",
        "print(name, fav_number)       # will print 9 next to the name"
      ]
    },
    {
      "cell_type": "code",
      "execution_count": null,
      "metadata": {
        "id": "AbNx1mcIBCYd",
        "outputId": "7eddfb2a-decc-4395-d7a1-d186d5ae7e86"
      },
      "outputs": [
        {
          "name": "stdout",
          "output_type": "stream",
          "text": [
            "13.4\n"
          ]
        }
      ],
      "source": [
        "# using two variables to create another variable\n",
        "\n",
        "result = num1 + num2\n",
        "\n",
        "print(result)"
      ]
    },
    {
      "cell_type": "code",
      "execution_count": 21,
      "metadata": {
        "id": "0ewUf9KiBCYe",
        "outputId": "a73223ce-01a6-49ad-de26-1755bf572a3d",
        "colab": {
          "base_uri": "https://localhost:8080/"
        }
      },
      "outputs": [
        {
          "output_type": "stream",
          "name": "stdout",
          "text": [
            "14.4\n",
            "72.0\n"
          ]
        }
      ],
      "source": [
        "# adding, deleting, multiplying, dividing from a variable\n",
        "\n",
        "result += 1   # same as saying result = result + 1\n",
        "print(result)\n",
        "\n",
        "result *= num1   # same as saying result = result * num1\n",
        "print(result)"
      ]
    },
    {
      "cell_type": "code",
      "execution_count": 22,
      "metadata": {
        "id": "BOISmiPEBCYe",
        "outputId": "61be0ec0-54eb-4c58-86bc-64981e240636",
        "colab": {
          "base_uri": "https://localhost:8080/"
        }
      },
      "outputs": [
        {
          "output_type": "stream",
          "name": "stdout",
          "text": [
            "John\n",
            "Sam\n"
          ]
        }
      ],
      "source": [
        "# defining a variable and overwriting it's value\n",
        "\n",
        "name = 'John'\n",
        "print(name)\n",
        "\n",
        "name = 'Sam'\n",
        "print(name)"
      ]
    },
    {
      "cell_type": "markdown",
      "metadata": {
        "id": "Ylzcl4jZBCYg"
      },
      "source": [
        "# Working with Strings"
      ]
    },
    {
      "cell_type": "code",
      "execution_count": 23,
      "metadata": {
        "id": "0dvGO4t5BCYg",
        "outputId": "0274e8a3-3ca7-4dfc-8804-852ba36b992f",
        "colab": {
          "base_uri": "https://localhost:8080/"
        }
      },
      "outputs": [
        {
          "output_type": "stream",
          "name": "stdout",
          "text": [
            "John Smith\n"
          ]
        }
      ],
      "source": [
        "# using the addition operator without variables\n",
        "\n",
        "name = 'John' + ' ' + 'Smith'\n",
        "\n",
        "print(name)"
      ]
    },
    {
      "cell_type": "code",
      "source": [
        "x=3\n",
        "y=10\n",
        "result=x*y\n",
        "print(result)"
      ],
      "metadata": {
        "id": "rUE5XV3cdQxa",
        "outputId": "0f43dace-5d08-4aa2-ad23-97b9d8a7d3f5",
        "colab": {
          "base_uri": "https://localhost:8080/"
        }
      },
      "execution_count": 24,
      "outputs": [
        {
          "output_type": "stream",
          "name": "stdout",
          "text": [
            "30\n"
          ]
        }
      ]
    },
    {
      "cell_type": "code",
      "source": [
        "print(x,\"+\",y,\"=\", x*y)"
      ],
      "metadata": {
        "id": "lBpIpFpXdnRn",
        "outputId": "76e28dfd-9ce3-493c-b965-92a43d013200",
        "colab": {
          "base_uri": "https://localhost:8080/"
        }
      },
      "execution_count": 34,
      "outputs": [
        {
          "output_type": "stream",
          "name": "stdout",
          "text": [
            "3 + 10 = 30\n"
          ]
        }
      ]
    },
    {
      "cell_type": "code",
      "source": [
        "x=245.54\n",
        "y=13.66\n",
        "result=x*y\n",
        "print(result)"
      ],
      "metadata": {
        "id": "wubbMSS9fEZI",
        "outputId": "d256ed22-176f-438b-cded-b708ca164145",
        "colab": {
          "base_uri": "https://localhost:8080/"
        }
      },
      "execution_count": 35,
      "outputs": [
        {
          "output_type": "stream",
          "name": "stdout",
          "text": [
            "3354.0764\n"
          ]
        }
      ]
    },
    {
      "cell_type": "code",
      "execution_count": 36,
      "metadata": {
        "id": "laASXtIzBCYg",
        "outputId": "72ea8b39-1676-4c53-dea7-58fb8d7d65c9",
        "colab": {
          "base_uri": "https://localhost:8080/"
        }
      },
      "outputs": [
        {
          "output_type": "stream",
          "name": "stdout",
          "text": [
            "John Smith\n"
          ]
        }
      ],
      "source": [
        "# using the addition operator with variables\n",
        "\n",
        "first_name = 'John'\n",
        "last_name = 'Smith'\n",
        "\n",
        "full_name = first_name + ' ' + last_name\n",
        "\n",
        "print(full_name)"
      ]
    },
    {
      "cell_type": "code",
      "execution_count": 37,
      "metadata": {
        "id": "P2DBov4vBCYh",
        "outputId": "7b39a289-5b7a-4e8d-ebc2-29c577a797ae",
        "colab": {
          "base_uri": "https://localhost:8080/"
        }
      },
      "outputs": [
        {
          "output_type": "stream",
          "name": "stdout",
          "text": [
            "Hello John\n",
            "Hello John, you are 28 years old!\n"
          ]
        }
      ],
      "source": [
        "# injecting variables using the format method\n",
        "\n",
        "name = 'John'\n",
        "\n",
        "print('Hello {}'.format(name))\n",
        "\n",
        "print('Hello {}, you are {} years old!'.format(name, 28))"
      ]
    },
    {
      "cell_type": "code",
      "execution_count": 38,
      "metadata": {
        "id": "Nqe919ZABCYh",
        "outputId": "b20961ad-43ba-4128-eb8c-15971652e1a1",
        "colab": {
          "base_uri": "https://localhost:8080/"
        }
      },
      "outputs": [
        {
          "output_type": "stream",
          "name": "stdout",
          "text": [
            "Hello John\n"
          ]
        }
      ],
      "source": [
        "# using the new f strings\n",
        "\n",
        "name = 'John'\n",
        "\n",
        "print(f'Hello {name}')"
      ]
    },
    {
      "cell_type": "code",
      "execution_count": 39,
      "metadata": {
        "id": "VwvkXLEBBCYh",
        "outputId": "44fcfd37-9727-4ff2-f1c1-ad6bf11e63cd",
        "colab": {
          "base_uri": "https://localhost:8080/"
        }
      },
      "outputs": [
        {
          "output_type": "stream",
          "name": "stdout",
          "text": [
            "Hello, John\n"
          ]
        }
      ],
      "source": [
        "# one major difference between versions 2 & 3\n",
        "\n",
        "name = 'John'\n",
        "\n",
        "print('Hello, %s' % name)"
      ]
    },
    {
      "cell_type": "code",
      "execution_count": 40,
      "metadata": {
        "id": "DOaikLbEBCYi",
        "outputId": "290d0399-ba3e-46fc-85ec-a838d87f9f0f",
        "colab": {
          "base_uri": "https://localhost:8080/"
        }
      },
      "outputs": [
        {
          "output_type": "stream",
          "name": "stdout",
          "text": [
            "Hello, John Smith\n"
          ]
        }
      ],
      "source": [
        "# python 2 multiple variable formatting\n",
        "\n",
        "first_name = \"John\"\n",
        "last_name = \"Smith\"\n",
        "\n",
        "print(\"Hello, %s %s\" % (first_name, last_name))"
      ]
    },
    {
      "cell_type": "code",
      "execution_count": 59,
      "metadata": {
        "id": "64xIvXfnBCYi",
        "outputId": "cb52494c-cd35-4fbc-cf97-bfd23efb84ad",
        "colab": {
          "base_uri": "https://localhost:8080/"
        }
      },
      "outputs": [
        {
          "output_type": "stream",
          "name": "stdout",
          "text": [
            "H\n",
            "e\n",
            "o\n"
          ]
        }
      ],
      "source": [
        "# using indexes to print each element\n",
        "\n",
        "word = 'Hello'\n",
        "\n",
        "print(word[0])        # will output 'H'\n",
        "print(word[1])        # will output 'e'\n",
        "print(word[-1])       # will output 'o'"
      ]
    },
    {
      "cell_type": "code",
      "execution_count": 60,
      "metadata": {
        "id": "nFfz6EFEBCYj",
        "outputId": "d71877fd-48b0-468f-c63b-fe6a779829f2",
        "colab": {
          "base_uri": "https://localhost:8080/"
        }
      },
      "outputs": [
        {
          "output_type": "stream",
          "name": "stdout",
          "text": [
            "He\n"
          ]
        }
      ],
      "source": [
        "print(word[0:2])      # will output 'He'"
      ]
    },
    {
      "cell_type": "code",
      "execution_count": 61,
      "metadata": {
        "id": "aKxl1ZB5BCYj",
        "outputId": "210fe2df-18b7-46e0-8222-8cab09662367",
        "colab": {
          "base_uri": "https://localhost:8080/"
        }
      },
      "outputs": [
        {
          "output_type": "stream",
          "name": "stdout",
          "text": [
            "Hlo\n"
          ]
        }
      ],
      "source": [
        "print( word[ 0 : 5 : 2 ] )"
      ]
    },
    {
      "cell_type": "code",
      "source": [
        "print(\"{} {} {} {}\".format(23,4.5, True, 'John'))"
      ],
      "metadata": {
        "id": "HgYd-qnY7xFS",
        "outputId": "c5f19442-9602-4800-ebfb-8299bc869cfc",
        "colab": {
          "base_uri": "https://localhost:8080/"
        }
      },
      "execution_count": 67,
      "outputs": [
        {
          "output_type": "stream",
          "name": "stdout",
          "text": [
            "23 4.5 True John\n"
          ]
        }
      ]
    },
    {
      "cell_type": "code",
      "source": [
        "d=23\n",
        "f=4.5\n",
        "b=False\n",
        "s='John'\n",
        "print(f'{d} {f} {b} {s}')"
      ],
      "metadata": {
        "id": "AAc26Pyy9Jno",
        "outputId": "aabb3743-5b03-4ba3-f4c9-b5cfa26e77f2",
        "colab": {
          "base_uri": "https://localhost:8080/"
        }
      },
      "execution_count": 68,
      "outputs": [
        {
          "output_type": "stream",
          "name": "stdout",
          "text": [
            "23 4.5 False John\n"
          ]
        }
      ]
    },
    {
      "cell_type": "code",
      "source": [
        "print('%i %f %s' %(d, f, s))"
      ],
      "metadata": {
        "id": "0Oi1WhPR-sl4",
        "outputId": "0500b7d7-e98b-4263-90d5-68acd6d85f59",
        "colab": {
          "base_uri": "https://localhost:8080/"
        }
      },
      "execution_count": 71,
      "outputs": [
        {
          "output_type": "stream",
          "name": "stdout",
          "text": [
            "23 4.500000 John\n"
          ]
        }
      ]
    },
    {
      "cell_type": "code",
      "source": [
        "print(\"{}'s favorite sport is {}.\".format('Sanjeev', 'Basketball'))"
      ],
      "metadata": {
        "id": "LHySPCKnBjKY",
        "outputId": "4f809c6a-ad7a-4792-9035-1ab3855d717d",
        "colab": {
          "base_uri": "https://localhost:8080/"
        }
      },
      "execution_count": 74,
      "outputs": [
        {
          "output_type": "stream",
          "name": "stdout",
          "text": [
            "Sanjeev's favorite sport is Basketball.\n"
          ]
        }
      ]
    },
    {
      "cell_type": "code",
      "source": [
        "print(\"{} is working on {} programming \".format('Sanjeev', 'Python'))"
      ],
      "metadata": {
        "id": "FaYvYosECN2P",
        "outputId": "7af4e53e-81d5-4b32-9754-fcbc6579610e",
        "colab": {
          "base_uri": "https://localhost:8080/"
        }
      },
      "execution_count": 75,
      "outputs": [
        {
          "output_type": "stream",
          "name": "stdout",
          "text": [
            "Sanjeev is working on Python programming \n"
          ]
        }
      ]
    },
    {
      "cell_type": "code",
      "source": [
        "print(\"{}\".format(first_name.title()))"
      ],
      "metadata": {
        "id": "hbLNi68IKyfG",
        "outputId": "c18c8334-2e80-4db4-da9e-ba0b83d98655",
        "colab": {
          "base_uri": "https://localhost:8080/"
        }
      },
      "execution_count": 107,
      "outputs": [
        {
          "output_type": "stream",
          "name": "stdout",
          "text": [
            "John\n"
          ]
        }
      ]
    },
    {
      "cell_type": "markdown",
      "metadata": {
        "id": "O7TTJPLEBCYj"
      },
      "source": [
        "# Manipulating Strings"
      ]
    },
    {
      "cell_type": "code",
      "execution_count": 78,
      "metadata": {
        "id": "dLfwx_H7BCYk",
        "outputId": "142b2611-4c4e-45d6-9382-73d1ffbf0ef6",
        "colab": {
          "base_uri": "https://localhost:8080/"
        }
      },
      "outputs": [
        {
          "output_type": "stream",
          "name": "stdout",
          "text": [
            "John Smith\n",
            "JOHN SMITH\n"
          ]
        }
      ],
      "source": [
        "# using the title method to capitalize a string\n",
        "\n",
        "name = 'john smith'\n",
        "\n",
        "print(name.title())\n",
        "print(name.upper())"
      ]
    },
    {
      "cell_type": "code",
      "execution_count": null,
      "metadata": {
        "id": "WAddb0bVBCYk",
        "outputId": "e3b93397-41c7-4f0b-9b20-7fef0e764a96"
      },
      "outputs": [
        {
          "name": "stdout",
          "output_type": "stream",
          "text": [
            "Hello there.\n"
          ]
        }
      ],
      "source": [
        "# replacing an exclamation point with a period\n",
        "\n",
        "words = 'Hello there!'\n",
        "\n",
        "print(words.replace('!', '.'))"
      ]
    },
    {
      "cell_type": "code",
      "execution_count": 79,
      "metadata": {
        "id": "HHL4XaMCBCYk",
        "outputId": "4070ad0d-6d0c-4211-a5d3-cba080d4f107",
        "colab": {
          "base_uri": "https://localhost:8080/"
        }
      },
      "outputs": [
        {
          "output_type": "stream",
          "name": "stdout",
          "text": [
            "5\n"
          ]
        }
      ],
      "source": [
        "# finding the starting index of our searched term\n",
        "\n",
        "s = 'Look over that way'\n",
        "\n",
        "print(s.find('over'))"
      ]
    },
    {
      "cell_type": "code",
      "execution_count": 80,
      "metadata": {
        "id": "1lrIZiS2BCYk",
        "outputId": "b54d9467-8eff-4538-aa2f-4a2d103aa394",
        "colab": {
          "base_uri": "https://localhost:8080/"
        }
      },
      "outputs": [
        {
          "output_type": "stream",
          "name": "stdout",
          "text": [
            "john\n"
          ]
        }
      ],
      "source": [
        "# removing white space with strip\n",
        "\n",
        "name = '   john   '\n",
        "\n",
        "print(name.strip( ))"
      ]
    },
    {
      "cell_type": "code",
      "source": [
        "print(name.lstrip())\n",
        "print(name.rstrip())"
      ],
      "metadata": {
        "id": "7F-aPH7ND95W",
        "outputId": "1a370be4-0a97-4554-b95b-2818d695e9a8",
        "colab": {
          "base_uri": "https://localhost:8080/"
        }
      },
      "execution_count": 81,
      "outputs": [
        {
          "output_type": "stream",
          "name": "stdout",
          "text": [
            "john   \n",
            "   john\n"
          ]
        }
      ]
    },
    {
      "cell_type": "code",
      "execution_count": null,
      "metadata": {
        "id": "ScYmRnZABCYl",
        "outputId": "3c5c15cd-76c7-4f04-e175-ebea6b7207b2"
      },
      "outputs": [
        {
          "name": "stdout",
          "output_type": "stream",
          "text": [
            "['These', 'words', 'are', 'separated', 'by', 'spaces']\n"
          ]
        }
      ],
      "source": [
        "# converting a string into a list of words\n",
        "\n",
        "s = 'These words are separated by spaces'\n",
        "\n",
        "print(s.split(' '))"
      ]
    },
    {
      "cell_type": "code",
      "source": [
        "test=\"sanjeev\"\n",
        "print(test.upper())"
      ],
      "metadata": {
        "id": "lGuNe9wVEUK0",
        "outputId": "38bceefa-5315-4edc-f7e8-074540d81187",
        "colab": {
          "base_uri": "https://localhost:8080/"
        }
      },
      "execution_count": 82,
      "outputs": [
        {
          "output_type": "stream",
          "name": "stdout",
          "text": [
            "SANJEEV\n"
          ]
        }
      ]
    },
    {
      "cell_type": "code",
      "source": [
        "help(\"\".strip)"
      ],
      "metadata": {
        "id": "5q4ii2JnEezx",
        "outputId": "30057a8a-307a-46c3-8c08-23d69f21e939",
        "colab": {
          "base_uri": "https://localhost:8080/"
        }
      },
      "execution_count": 83,
      "outputs": [
        {
          "output_type": "stream",
          "name": "stdout",
          "text": [
            "Help on built-in function strip:\n",
            "\n",
            "strip(chars=None, /) method of builtins.str instance\n",
            "    Return a copy of the string with leading and trailing whitespace removed.\n",
            "    \n",
            "    If chars is given and not None, remove characters in chars instead.\n",
            "\n"
          ]
        }
      ]
    },
    {
      "cell_type": "code",
      "source": [
        "test2=\"$$John Smith\"\n",
        "print(test2.lstrip())\n",
        "print(test2.rstrip())\n",
        "print(test2.strip(\"$, \"))"
      ],
      "metadata": {
        "id": "jkh7oavfEyGJ",
        "outputId": "fbeaa3c6-be0c-4238-80dc-81a60b383788",
        "colab": {
          "base_uri": "https://localhost:8080/"
        }
      },
      "execution_count": 93,
      "outputs": [
        {
          "output_type": "stream",
          "name": "stdout",
          "text": [
            "$$John Smith\n",
            "$$John Smith\n",
            "John Smith\n"
          ]
        }
      ]
    },
    {
      "cell_type": "markdown",
      "metadata": {
        "id": "StSHVu4DBCYl"
      },
      "source": [
        "# Friday Project: Printing Receipts"
      ]
    },
    {
      "cell_type": "code",
      "execution_count": 108,
      "metadata": {
        "scrolled": true,
        "id": "puHboiY4BCYl",
        "outputId": "0263c557-ea73-42fd-e755-26a4d7b0d83b",
        "colab": {
          "base_uri": "https://localhost:8080/"
        }
      },
      "outputs": [
        {
          "output_type": "stream",
          "name": "stdout",
          "text": [
            "**************************************************\n",
            "\t\tCoding Temple, Inc.\n",
            "\t\t283 Franklin St.\n",
            "\t\tBoston, Ma\n",
            "==================================================\n",
            "\tProduct Name\tProduct Price\n",
            "\tBooks\t\t$49.95\n",
            "\tComputer\t$579.99\n",
            "\tMonitor\t\t$124.89\n",
            "==================================================\n",
            "\t\t\tTotal\n",
            "\t\t\t$754.83\n",
            "==================================================\n",
            "\n",
            "\tThanks for shopping with us today!\n",
            "\n",
            "**************************************************\n"
          ]
        }
      ],
      "source": [
        "# create a product and price for three items\n",
        "p1_name, p1_price = 'Books', 49.95\n",
        "p2_name, p2_price = 'Computer', 579.99\n",
        "p3_name, p3_price = 'Monitor', 124.89\n",
        "\n",
        "# create a company name and information\n",
        "company_name = 'coding temple, inc.'\n",
        "company_address = '283 Franklin St.'\n",
        "company_city = 'Boston, MA'\n",
        "\n",
        "# declare ending message\n",
        "message = 'Thanks for shopping with us today!'\n",
        "\n",
        "# create a top border\n",
        "print('*' * 50)\n",
        "\n",
        "# print company information first using format\n",
        "print('\\t\\t{}'.format(company_name.title()))\n",
        "print('\\t\\t{}'.format(company_address.title()))\n",
        "print('\\t\\t{}'.format(company_city.title()))\n",
        "\n",
        "# print a line between sections\n",
        "print('=' * 50)\n",
        "\n",
        "# print out header for section of items\n",
        "print('\\tProduct Name\\tProduct Price')\n",
        "\n",
        "# create a print statement for each item\n",
        "print('\\t{}\\t\\t${}'.format(p1_name.title(), p1_price))\n",
        "print('\\t{}\\t${}'.format(p2_name.title(), p2_price))\n",
        "print('\\t{}\\t\\t${}'.format(p3_name.title(), p3_price))\n",
        "\n",
        "# print a line between sections\n",
        "print('=' * 50)\n",
        "\n",
        "# print out header for section of total\n",
        "print('\\t\\t\\tTotal')\n",
        "\n",
        "# calculate total price and print out\n",
        "total = p1_price + p2_price + p3_price\n",
        "print('\\t\\t\\t${}'.format(total))\n",
        "\n",
        "# print a line between sections\n",
        "print('=' * 50)\n",
        "\n",
        "# output thank you message\n",
        "print('\\n\\t{}\\n'.format(message))\n",
        "\n",
        "# create a bottom border\n",
        "print('*' * 50)"
      ]
    },
    {
      "cell_type": "code",
      "source": [
        "border=\"*\\t\\t\\t\\t*\\n\"\n",
        "print(border*10)"
      ],
      "metadata": {
        "id": "p-UCSn2hOEIT",
        "outputId": "db37f3df-7580-4936-bdae-e5eb2b8dbcac",
        "colab": {
          "base_uri": "https://localhost:8080/"
        }
      },
      "execution_count": 111,
      "outputs": [
        {
          "output_type": "stream",
          "name": "stdout",
          "text": [
            "*\t\t\t\t*\n",
            "*\t\t\t\t*\n",
            "*\t\t\t\t*\n",
            "*\t\t\t\t*\n",
            "*\t\t\t\t*\n",
            "*\t\t\t\t*\n",
            "*\t\t\t\t*\n",
            "*\t\t\t\t*\n",
            "*\t\t\t\t*\n",
            "*\t\t\t\t*\n",
            "\n"
          ]
        }
      ]
    },
    {
      "cell_type": "markdown",
      "metadata": {
        "id": "6GVay80gBCYl"
      },
      "source": [
        "# Monday Exercises - Answers"
      ]
    },
    {
      "cell_type": "markdown",
      "metadata": {
        "id": "CrDTG3EpBCYl"
      },
      "source": [
        "<p>\n",
        "1. <b>Output:</b> Print our your name.\n",
        "</p>"
      ]
    },
    {
      "cell_type": "code",
      "execution_count": null,
      "metadata": {
        "id": "lGt7dF8TBCYl",
        "outputId": "dad683d1-f0fa-400c-c031-719f41c6f969"
      },
      "outputs": [
        {
          "name": "stdout",
          "output_type": "stream",
          "text": [
            "Connor P. Milliken\n"
          ]
        }
      ],
      "source": [
        "print(\"Connor P. Milliken\")"
      ]
    },
    {
      "cell_type": "markdown",
      "metadata": {
        "id": "pCSDXlAsBCYl"
      },
      "source": [
        "<p>\n",
        "2. <b>Type Checking:</b> Try checking the type of a value by using the type() method. This will always print out what kind of data type you're checking. This is useful to check data types when you're unsure. As an example:\n",
        "</p>\n",
        "\n",
        "<p>\n",
        ">>> type(int)    # will output <class \"int\">\n",
        "</p>"
      ]
    },
    {
      "cell_type": "code",
      "execution_count": null,
      "metadata": {
        "id": "1sTkMto8BCYm",
        "outputId": "aca852a8-75fb-48ed-bcc4-73b2562a3a4f"
      },
      "outputs": [
        {
          "data": {
            "text/plain": [
              "int"
            ]
          },
          "execution_count": 4,
          "metadata": {},
          "output_type": "execute_result"
        }
      ],
      "source": [
        "type(5)"
      ]
    },
    {
      "cell_type": "markdown",
      "metadata": {
        "id": "bGBXVNo-BCYm"
      },
      "source": [
        "# Tuesday Exercises - Answers"
      ]
    },
    {
      "cell_type": "markdown",
      "metadata": {
        "id": "sMjcWQVaBCYm"
      },
      "source": [
        "<p>\n",
        "1. <b>Variable Output:</b> Store the value 3 in a variable called \"x\" and the value 10 in a variable called \"y\". Save the result of x * y into a separate variabled called \"result\". Finally, output the information so it shows like the following:\n",
        "</p>\n",
        "\n",
        "<p>\n",
        ">>> 3 + 10 = 13\n",
        "</p>"
      ]
    },
    {
      "cell_type": "code",
      "execution_count": null,
      "metadata": {
        "id": "Ot4yg7psBCYm",
        "outputId": "9436e094-9be7-433f-bc3d-e95047ed707e"
      },
      "outputs": [
        {
          "name": "stdout",
          "output_type": "stream",
          "text": [
            "3 * 10 = 30\n"
          ]
        }
      ],
      "source": [
        "x = 3\n",
        "y = 10\n",
        "\n",
        "result = x  * y\n",
        "\n",
        "print(x, '*', y, '=', result)"
      ]
    },
    {
      "cell_type": "markdown",
      "metadata": {
        "id": "aEppr1JGBCYm"
      },
      "source": [
        "<p>\n",
        "2. <b>Area Calculation:</b> Calculate the area of a 245.54\" x 13.66\" rectangle. Print out the result. HINT: Area is width multiplied by height.\n",
        "</p>"
      ]
    },
    {
      "cell_type": "code",
      "execution_count": null,
      "metadata": {
        "id": "c9h0AUbnBCYm",
        "outputId": "aa0015ef-3924-4d82-dd20-3f52059a5b85"
      },
      "outputs": [
        {
          "name": "stdout",
          "output_type": "stream",
          "text": [
            "The area is 3354.0764\n"
          ]
        }
      ],
      "source": [
        "width = 245.54\n",
        "height = 13.66\n",
        "\n",
        "area = width * height\n",
        "\n",
        "print('The area is', area)"
      ]
    },
    {
      "cell_type": "markdown",
      "metadata": {
        "id": "yIabI5WUBCYn"
      },
      "source": [
        "# Wednesday Exercises - Answers"
      ]
    },
    {
      "cell_type": "markdown",
      "metadata": {
        "id": "OlYN5DGIBCYn"
      },
      "source": [
        "<p>\n",
        "1. <b>Variable Injection:</b> Create a print statement that injects an integer, float, boolean, and string all into one line. The output should look like \"23 4.5 False John\".\n",
        "</p>"
      ]
    },
    {
      "cell_type": "code",
      "execution_count": null,
      "metadata": {
        "id": "sv_oIjG1BCYn",
        "outputId": "307c2481-a8f5-42c0-ef74-eef7b6dc0061"
      },
      "outputs": [
        {
          "name": "stdout",
          "output_type": "stream",
          "text": [
            "23 4.5 False John\n"
          ]
        }
      ],
      "source": [
        "print(\"{} {} {} {}\".format(23, 4.5, False, \"John\"))"
      ]
    },
    {
      "cell_type": "markdown",
      "metadata": {
        "id": "sUkWd_ZmBCYn"
      },
      "source": [
        "<p>\n",
        "2. <b>Fill in the Blanks:</b> Using the format method, fill in the blanks below by assinging your name and favorite activities into variables:\n",
        "</p>\n",
        "\n",
        "<p>\n",
        "\"{}'s favorite sport is {}.\"\n",
        "</p>\n",
        "\n",
        "<p>\n",
        "\"{} is working on {} programming!\"\n",
        "</p>"
      ]
    },
    {
      "cell_type": "code",
      "execution_count": null,
      "metadata": {
        "id": "vHwsgdW9BCYn",
        "outputId": "cf738eb9-1882-4be8-99e4-ce98bedcf8cb"
      },
      "outputs": [
        {
          "name": "stdout",
          "output_type": "stream",
          "text": [
            "Connor's favorite sport is Baseball\n",
            "Connor is working on Python programming!\n"
          ]
        }
      ],
      "source": [
        "print(\"{}'s favorite sport is {}\".format(\"Connor\", \"Baseball\"))\n",
        "print(\"{} is working on {} programming!\".format(\"Connor\", \"Python\"))"
      ]
    },
    {
      "cell_type": "markdown",
      "metadata": {
        "id": "kxAhXqAJBCYn"
      },
      "source": [
        "# Thursday Exercises - Answers"
      ]
    },
    {
      "cell_type": "markdown",
      "metadata": {
        "id": "1NskAeFOBCYn"
      },
      "source": [
        "<p>\n",
        "1. <b>Uppercasing:</b> Try manipulating the string 'uppercase' so it prints out as all uppercase letters. You'll need to lookup a new method.\n",
        "</p>"
      ]
    },
    {
      "cell_type": "code",
      "execution_count": null,
      "metadata": {
        "id": "SI9wtlhjBCYn",
        "outputId": "3377e197-38c3-44ae-d9fd-965e4eb93e82"
      },
      "outputs": [
        {
          "name": "stdout",
          "output_type": "stream",
          "text": [
            "UPPERCASE\n"
          ]
        }
      ],
      "source": [
        "s = 'uppercase'\n",
        "\n",
        "print(s.upper())"
      ]
    },
    {
      "cell_type": "markdown",
      "metadata": {
        "id": "mLEDVARHBCYn"
      },
      "source": [
        "<p>\n",
        "2. <b>Strip Symbols:</b> Strip all dollar signs from the left side of this string \"$$John Smith\". Try it with .lstrip() and .strip(). To see a description of how to use the strip method further, try using the help function by typing the following:\n",
        "</p>\n",
        "\n",
        "<p>\n",
        ">>> help(\"\".strip)\n",
        "</p>"
      ]
    },
    {
      "cell_type": "code",
      "execution_count": null,
      "metadata": {
        "id": "PX_ENJApBCYo",
        "outputId": "4a73648e-4476-4049-9694-4ec47669b67a"
      },
      "outputs": [
        {
          "name": "stdout",
          "output_type": "stream",
          "text": [
            "John Smith\n"
          ]
        }
      ],
      "source": [
        "# help(\"\".strip)\n",
        "\n",
        "s = \"$$John Smith\"\n",
        "\n",
        "print(s.lstrip('$'))"
      ]
    },
    {
      "cell_type": "markdown",
      "metadata": {
        "id": "-aq2d5JjBCYo"
      },
      "source": [
        "# End of Week Exercises - Answers"
      ]
    },
    {
      "cell_type": "markdown",
      "metadata": {
        "id": "T2DgymorBCYo"
      },
      "source": [
        "<p>\n",
        "1. <b>Side Borders:</b> In the Friday project, we ended up creating borders above and below the information printed out. Try adding a star border on the sides as well now.\n",
        "</p>"
      ]
    },
    {
      "cell_type": "code",
      "execution_count": null,
      "metadata": {
        "id": "HrBjoj7zBCYo",
        "outputId": "f3cb7929-6093-4cdb-b355-c36981dcdda8"
      },
      "outputs": [
        {
          "name": "stdout",
          "output_type": "stream",
          "text": [
            "**************************************************\n",
            "*\t\tCoding Temple, Inc.\t\t *\n",
            "*\t\t283 Franklin St.\t\t *\n",
            "*\t\tBoston, Ma\t\t\t *\n",
            "*================================================*\n",
            "*\tProduct Name\tProduct Price\t\t *\n",
            "*\tBooks\t\t$49.95\t\t\t *\n",
            "*\tComputer\t$579.99\t\t\t *\n",
            "*\tMonitor\t\t$124.89\t\t\t *\n",
            "*================================================*\n",
            "*\t\t\tTotal\t\t\t *\n",
            "*\t\t\t$754.83\t\t\t *\n",
            "*================================================*\n",
            "*\t\t\t\t\t\t *\n",
            "*\tThanks for shopping with us today!\t *\n",
            "*\t\t\t\t\t\t *\n",
            "**************************************************\n"
          ]
        }
      ],
      "source": [
        "# create a product and price for three items\n",
        "p1_name, p1_price = 'Books', 49.95\n",
        "p2_name, p2_price = 'Computer', 579.99\n",
        "p3_name, p3_price = 'Monitor', 124.89\n",
        "\n",
        "# create a company name and information\n",
        "company_name = 'coding temple, inc.'\n",
        "company_address = '283 Franklin St.'\n",
        "company_city = 'Boston, MA'\n",
        "\n",
        "# declare ending message\n",
        "message = 'Thanks for shopping with us today!'\n",
        "\n",
        "# create a top border\n",
        "print('*' * 50)\n",
        "\n",
        "# print company information first using format\n",
        "print('*\\t\\t{}\\t\\t *'.format(company_name.title()))\n",
        "print('*\\t\\t{}\\t\\t *'.format(company_address.title()))\n",
        "print('*\\t\\t{}\\t\\t\\t *'.format(company_city.title()))\n",
        "\n",
        "# print a line between sections\n",
        "print('*' + '=' * 48 + '*')\n",
        "\n",
        "# print out header for section of items\n",
        "print('*\\tProduct Name\\tProduct Price\\t\\t *')\n",
        "\n",
        "# create a print statement for each item\n",
        "print('*\\t{}\\t\\t${}\\t\\t\\t *'.format(p1_name.title(), p1_price))\n",
        "print('*\\t{}\\t${}\\t\\t\\t *'.format(p2_name.title(), p2_price))\n",
        "print('*\\t{}\\t\\t${}\\t\\t\\t *'.format(p3_name.title(), p3_price))\n",
        "\n",
        "# print a line between sections\n",
        "print('*' + '=' * 48 + '*')\n",
        "\n",
        "# print out header for section of total\n",
        "print('*\\t\\t\\tTotal\\t\\t\\t *')\n",
        "\n",
        "# calculate total price and print out\n",
        "total = p1_price + p2_price + p3_price\n",
        "print('*\\t\\t\\t${}\\t\\t\\t *'.format(total))\n",
        "\n",
        "# print a line between sections\n",
        "print('*' + '=' * 48 + '*')\n",
        "\n",
        "# output thank you message\n",
        "print('*\\t\\t\\t\\t\\t\\t *\\n*\\t{}\\t *\\n*\\t\\t\\t\\t\\t\\t *'.format(message))\n",
        "\n",
        "# create a bottom border\n",
        "print('*' * 50)"
      ]
    },
    {
      "cell_type": "markdown",
      "metadata": {
        "id": "U8dDeLKhBCYo"
      },
      "source": [
        "<p>\n",
        "2. <b>Researching Methods:</b> We've gone over a few of the string manipulation methods that are widely used; however, there's many more, try looking up some and implementing them.\n",
        "</p>"
      ]
    },
    {
      "cell_type": "markdown",
      "metadata": {
        "id": "GpOUmI5KBCYo"
      },
      "source": [
        "<p>\n",
        "3. <b>Reverse:</b> Declare a variable equal to \"Hello\". Reverse the string using slicing. Try looking it up if you struggle. Tip: You can define a start, stop, and step when slicing.\n",
        "</p>"
      ]
    },
    {
      "cell_type": "code",
      "execution_count": null,
      "metadata": {
        "id": "Zm4oNYoPBCYo",
        "outputId": "e3a6a9cf-3bb4-42a8-ff24-4686d103074a"
      },
      "outputs": [
        {
          "name": "stdout",
          "output_type": "stream",
          "text": [
            "olleH\n"
          ]
        }
      ],
      "source": [
        "s = \"Hello\"\n",
        "\n",
        "print(s[::-1])"
      ]
    },
    {
      "cell_type": "code",
      "source": [
        "import numpy as np\n",
        "from sklearn.linear_model import LogisticRegression"
      ],
      "metadata": {
        "id": "86QB_mixnLqZ"
      },
      "execution_count": 43,
      "outputs": []
    },
    {
      "cell_type": "code",
      "source": [
        "input_data=np.array([[0,0], [0.25, 0.25], [0.5, 0.5], [1,1]])"
      ],
      "metadata": {
        "id": "A9paHn4wnWt7"
      },
      "execution_count": 45,
      "outputs": []
    },
    {
      "cell_type": "code",
      "source": [
        "output_data=[0,0,1,1]"
      ],
      "metadata": {
        "id": "Eoqt7lIMoAMJ"
      },
      "execution_count": 47,
      "outputs": []
    },
    {
      "cell_type": "markdown",
      "source": [],
      "metadata": {
        "id": "DovKHUSBogl3"
      }
    },
    {
      "cell_type": "code",
      "source": [
        "logit_model = LogisticRegression()\n",
        "\n"
      ],
      "metadata": {
        "id": "STUuS-MIoMuh"
      },
      "execution_count": 49,
      "outputs": []
    },
    {
      "cell_type": "code",
      "source": [
        "logit_model.fit(input_data, output_data)"
      ],
      "metadata": {
        "id": "B34pnKXSob8R",
        "outputId": "bddbdf18-489e-4029-8864-eae1d31476a8",
        "colab": {
          "base_uri": "https://localhost:8080/"
        }
      },
      "execution_count": 50,
      "outputs": [
        {
          "output_type": "execute_result",
          "data": {
            "text/plain": [
              "LogisticRegression()"
            ]
          },
          "metadata": {},
          "execution_count": 50
        }
      ]
    },
    {
      "cell_type": "code",
      "source": [
        "logit_model.coef_"
      ],
      "metadata": {
        "id": "rxRh5__lonoS",
        "outputId": "71e1c156-a117-41f6-8503-67bbeb4f1ea9",
        "colab": {
          "base_uri": "https://localhost:8080/"
        }
      },
      "execution_count": 51,
      "outputs": [
        {
          "output_type": "execute_result",
          "data": {
            "text/plain": [
              "array([[0.49290987, 0.49290987]])"
            ]
          },
          "metadata": {},
          "execution_count": 51
        }
      ]
    },
    {
      "cell_type": "code",
      "source": [
        "logit_model.intercept_"
      ],
      "metadata": {
        "id": "iKKgwbPqoswK",
        "outputId": "e7b63244-1e36-434f-ec62-d1da4d21c5bb",
        "colab": {
          "base_uri": "https://localhost:8080/"
        }
      },
      "execution_count": 52,
      "outputs": [
        {
          "output_type": "execute_result",
          "data": {
            "text/plain": [
              "array([-0.42954641])"
            ]
          },
          "metadata": {},
          "execution_count": 52
        }
      ]
    },
    {
      "cell_type": "code",
      "source": [
        "predicted_output=logit_model.predict(input_data)"
      ],
      "metadata": {
        "id": "XI9keLbco3LB"
      },
      "execution_count": 54,
      "outputs": []
    },
    {
      "cell_type": "code",
      "source": [
        "%matplotlib inline\n",
        "import matplotlib.pyplot as plt\n",
        "plt.scatter(\n",
        "    x=input_data[:,0],\n",
        "    y=input_data[:,1],\n",
        "    color=[('red' if x==1 else 'blue') for x in output_data]\n",
        ")\n",
        "plt.xlabel('X')\n",
        "plt.ylabel('Y'),\n",
        "plt.title('Actual')\n",
        "plt.grid()\n",
        "plt.show()\n",
        "\n"
      ],
      "metadata": {
        "id": "-U7ctyhRl8ZD",
        "outputId": "2130d6cb-87b0-45fa-85c8-306a3b7d8967",
        "colab": {
          "base_uri": "https://localhost:8080/",
          "height": 295
        }
      },
      "execution_count": 56,
      "outputs": [
        {
          "output_type": "display_data",
          "data": {
            "text/plain": [
              "<Figure size 432x288 with 1 Axes>"
            ],
            "image/png": "[encoded data removed]"
          },
          "metadata": {
            "needs_background": "light"
          }
        }
      ]
    },
    {
      "cell_type": "code",
      "source": [
        "%matplotlib inline\n",
        "import matplotlib.pyplot as plt\n",
        "plt.scatter(\n",
        "    x=input_data[:,0],\n",
        "    y=input_data[:,1],\n",
        "    color=[('red' if x==1 else 'blue') for x in predicted_output]\n",
        ")\n",
        "plt.xlabel('X')\n",
        "plt.ylabel('Y'),\n",
        "plt.title('Predicted')\n",
        "plt.grid()\n",
        "plt.show()\n"
      ],
      "metadata": {
        "id": "kGfXytUWnJna",
        "outputId": "9ca35157-da15-490e-84a0-4013c3763530",
        "colab": {
          "base_uri": "https://localhost:8080/",
          "height": 295
        }
      },
      "execution_count": 58,
      "outputs": [
        {
          "output_type": "display_data",
          "data": {
            "text/plain": [
              "<Figure size 432x288 with 1 Axes>"
            ],
            "image/png": "[encoded data removed]"
          },
          "metadata": {
            "needs_background": "light"
          }
        }
      ]
    }
  ],
  "metadata": {
    "kernelspec": {
      "display_name": "Python 3",
      "language": "python",
      "name": "python3"
    },
    "language_info": {
      "codemirror_mode": {
        "name": "ipython",
        "version": 3
      },
      "file_extension": ".py",
      "mimetype": "text/x-python",
      "name": "python",
      "nbconvert_exporter": "python",
      "pygments_lexer": "ipython3",
      "version": "3.6.5"
    },
    "colab": {
      "provenance": [],
      "include_colab_link": true
    }
  },
  "nbformat": 4,
  "nbformat_minor": 0
}