{
 "cells": [
  {
   "cell_type": "code",
   "execution_count": null,
   "metadata": {},
   "outputs": [],
   "source": []
  },
  {
   "cell_type": "code",
   "execution_count": 2,
   "metadata": {},
   "outputs": [
    {
     "name": "stdout",
     "output_type": "stream",
     "text": [
      "sanjeev\n",
      "Age is not available\n"
     ]
    }
   ],
   "source": [
    "person={\"name\":\"sanjeev\"}\n",
    "print(person.get(\"name\"))\n",
    "print(person.get(\"age\",\"Age is not available\"))"
   ]
  },
  {
   "cell_type": "code",
   "execution_count": 1,
   "metadata": {},
   "outputs": [
    {
     "name": "stdout",
     "output_type": "stream",
     "text": [
      "baseball\n"
     ]
    }
   ],
   "source": [
    "data={\"sports\":[\"baseball\", \"football\"]}\n",
    "print(data[\"sports\"][0])"
   ]
  },
  {
   "cell_type": "code",
   "execution_count": 2,
   "metadata": {},
   "outputs": [
    {
     "ename": "ValueError",
     "evalue": "dictionary update sequence element #0 has length 8; 2 is required",
     "output_type": "error",
     "traceback": [
      "\u001b[1;31m---------------------------------------------------------------------------\u001b[0m",
      "\u001b[1;31mValueError\u001b[0m                                Traceback (most recent call last)",
      "Cell \u001b[1;32mIn [2], line 2\u001b[0m\n\u001b[0;32m      1\u001b[0m sports\u001b[39m=\u001b[39m[\u001b[39m\"\u001b[39m\u001b[39mbaseball\u001b[39m\u001b[39m\"\u001b[39m, \u001b[39m\"\u001b[39m\u001b[39mfootball\u001b[39m\u001b[39m\"\u001b[39m]\n\u001b[1;32m----> 2\u001b[0m sports_dict\u001b[39m=\u001b[39m\u001b[39mdict\u001b[39m(sports)\n",
      "\u001b[1;31mValueError\u001b[0m: dictionary update sequence element #0 has length 8; 2 is required"
     ]
    }
   ],
   "source": [
    "sports=[\"baseball\", \"football\"]\n",
    "sports_dict=dict(sports)\n"
   ]
  },
  {
   "cell_type": "code",
   "execution_count": 5,
   "metadata": {},
   "outputs": [
    {
     "name": "stdout",
     "output_type": "stream",
     "text": [
      "{'sports': ['baseball', 'football']}\n"
     ]
    }
   ],
   "source": [
    "sports_dict=dict({\"sports\":sports})\n",
    "print(sports_dict)"
   ]
  },
  {
   "cell_type": "code",
   "execution_count": 6,
   "metadata": {},
   "outputs": [
    {
     "name": "stdout",
     "output_type": "stream",
     "text": [
      "{'name': 'sanjeev', 'age': '50'}\n"
     ]
    }
   ],
   "source": [
    "name=input(\"Enter the name\")\n",
    "age=input(\"Enter the age\")\n",
    "\n",
    "per_dict={\"name\":name,\n",
    "          \"age\":age\n",
    "}\n",
    "\n",
    "print(per_dict)"
   ]
  },
  {
   "cell_type": "code",
   "execution_count": 8,
   "metadata": {},
   "outputs": [
    {
     "name": "stdout",
     "output_type": "stream",
     "text": [
      "cheese\n",
      "sausage\n",
      "peppers\n"
     ]
    }
   ],
   "source": [
    "pizza={\n",
    "    \"ingredients\":['cheese','sausage','peppers']\n",
    "\n",
    "}\n",
    "\n",
    "print(pizza['ingredients'][0])\n",
    "print(pizza['ingredients'][1])\n",
    "print(pizza['ingredients'][2])\n"
   ]
  },
  {
   "cell_type": "code",
   "execution_count": 10,
   "metadata": {},
   "outputs": [
    {
     "name": "stdout",
     "output_type": "stream",
     "text": [
      "{}\n"
     ]
    }
   ],
   "source": [
    "car ={\"year\": 2018}\n",
    "\n",
    "try:\n",
    "    del car[\"year\"]\n",
    "    print(car)\n",
    "\n",
    "except:\n",
    "    print(\"This key does not exist\")\n",
    "\n"
   ]
  },
  {
   "cell_type": "code",
   "execution_count": 12,
   "metadata": {},
   "outputs": [
    {
     "name": "stdout",
     "output_type": "stream",
     "text": [
      "name\n",
      "John\n",
      "age\n",
      "26\n"
     ]
    }
   ],
   "source": [
    "person = {\n",
    "    \"name\": \"John\",\n",
    "    \"age\": 26\n",
    "}\n",
    "\n",
    "for key in person.keys():\n",
    "    print(key)\n",
    "    print(person[key])\n"
   ]
  },
  {
   "cell_type": "code",
   "execution_count": 13,
   "metadata": {},
   "outputs": [
    {
     "name": "stdout",
     "output_type": "stream",
     "text": [
      "John\n",
      "26\n"
     ]
    }
   ],
   "source": [
    "person ={\"name\": \"John\",\n",
    "        \"age\":26\n",
    "    }\n",
    "\n",
    "for value in person.values():\n",
    "    print(value)"
   ]
  },
  {
   "cell_type": "code",
   "execution_count": 14,
   "metadata": {},
   "outputs": [
    {
     "name": "stdout",
     "output_type": "stream",
     "text": [
      "name: john\n",
      "age: 26\n"
     ]
    }
   ],
   "source": [
    "person ={\"name\": \"john\",\n",
    "        \"age\": 26\n",
    "        }\n",
    "\n",
    "for key, value in person.items():\n",
    "    print(f\"{key}: {value}\")\n",
    "\n"
   ]
  },
  {
   "cell_type": "code",
   "execution_count": 15,
   "metadata": {},
   "outputs": [
    {
     "name": "stdout",
     "output_type": "stream",
     "text": [
      "name Sanjeev\n",
      "address Raleigh\n",
      "number 9\n"
     ]
    }
   ],
   "source": [
    "person_dict={}\n",
    "name=input(\"Name\")\n",
    "address=input(\"Address\")\n",
    "number=input(\"Number\")\n",
    "person_dict['name']=name\n",
    "person_dict['address']=address\n",
    "person_dict['number']=number\n",
    "\n",
    "for key, value in person_dict.items():\n",
    "    print(f\"{key} {value}\")\n",
    "\n",
    "\n",
    "\n",
    " "
   ]
  },
  {
   "cell_type": "code",
   "execution_count": 17,
   "metadata": {},
   "outputs": [
    {
     "name": "stdout",
     "output_type": "stream",
     "text": [
      "(1, 3, 4) <class 'tuple'>\n",
      "(2, 1) <class 'tuple'>\n"
     ]
    }
   ],
   "source": [
    "# tuples\n",
    "t1=(1,3,4)\n",
    "t2=2,1\n",
    "print(t1, type(t1))\n",
    "print(t2, type(t2))"
   ]
  },
  {
   "cell_type": "code",
   "execution_count": 19,
   "metadata": {},
   "outputs": [
    {
     "name": "stdout",
     "output_type": "stream",
     "text": [
      "{1, 2, 3} {4, 5}\n",
      "{2, 3, 5}\n"
     ]
    }
   ],
   "source": [
    "s1=set([1,2,3,1])\n",
    "s2={4,4,5}\n",
    "print(s1,s2)\n",
    "s1.add(5)\n",
    "s1.remove(1)\n",
    "print(s1)"
   ]
  },
  {
   "cell_type": "code",
   "execution_count": 20,
   "metadata": {},
   "outputs": [
    {
     "name": "stdout",
     "output_type": "stream",
     "text": [
      "<class 'frozenset'>\n"
     ]
    }
   ],
   "source": [
    "fset=frozenset([1,2,3,4])\n",
    "print(type(fset))"
   ]
  },
  {
   "cell_type": "code",
   "execution_count": 28,
   "metadata": {},
   "outputs": [
    {
     "name": "stdout",
     "output_type": "stream",
     "text": [
      "frozenset({'eegegg', 'dggddd', 'qeggdag'})\n"
     ]
    }
   ],
   "source": [
    "from IPython.display import clear_output\n",
    "bank_list=[]\n",
    "def main():\n",
    "    done=False\n",
    "    while not done:\n",
    "        ans=input(\"enter quit/add\")\n",
    "        if ans==\"quit\":\n",
    "            done=True\n",
    "        elif ans==\"add\":\n",
    "            item=input(\"Enter a bank account\")\n",
    "            bank_list.append(item)\n",
    "            print(\"bank list has been updated\")\n",
    "            clear_output()\n",
    "\n",
    "main()\n",
    "frozen_list=frozenset(bank_list)\n",
    "print(frozen_list)"
   ]
  },
  {
   "cell_type": "code",
   "execution_count": 29,
   "metadata": {},
   "outputs": [
    {
     "name": "stdout",
     "output_type": "stream",
     "text": [
      "{10, 3, 4, 7}\n"
     ]
    }
   ],
   "source": [
    "nums=[3,4,3,7,10]\n",
    "set_nums=set(nums)\n",
    "print(set_nums)"
   ]
  },
  {
   "cell_type": "code",
   "execution_count": 30,
   "metadata": {},
   "outputs": [
    {
     "name": "stdout",
     "output_type": "stream",
     "text": [
      "this is test\n"
     ]
    }
   ],
   "source": [
    "f=open('test.txt', \"w+\")\n",
    "f.write(\"this is test\")\n",
    "f.close()\n",
    "f=open(\"test.txt\",\"r\")\n",
    "data=f.read()\n",
    "f.close()\n",
    "print(data)"
   ]
  },
  {
   "cell_type": "code",
   "execution_count": 31,
   "metadata": {},
   "outputs": [],
   "source": [
    "import csv\n",
    "with open(\"test.csv\", mode=\"w\", newline=\"\") as f:\n",
    "    writer= csv.writer(f, delimiter=\",\")\n",
    "    writer.writerow([\"Name\",\"City\"])\n",
    "    writer.writerow([\"James\", \"USA\"])"
   ]
  },
  {
   "cell_type": "code",
   "execution_count": 32,
   "metadata": {},
   "outputs": [
    {
     "name": "stdout",
     "output_type": "stream",
     "text": [
      "['Name', 'City']\n",
      "['James', 'USA']\n"
     ]
    }
   ],
   "source": [
    "with open(\"test.csv\", mode=\"r\") as f:\n",
    "    reader =csv.reader(f, delimiter=\",\")\n",
    "    for row in reader:\n",
    "        print(row )"
   ]
  },
  {
   "cell_type": "code",
   "execution_count": 33,
   "metadata": {},
   "outputs": [],
   "source": [
    "ans=input(\"what is your favorite number\")\n",
    "textfile=open(\"num.txt\",\"w\")\n",
    "textfile.write(ans)\n",
    "textfile.close()"
   ]
  },
  {
   "cell_type": "code",
   "execution_count": 67,
   "metadata": {},
   "outputs": [],
   "source": [
    "data = {\n",
    "    'name':['Dave', 'Dennis', 'Peter', 'Jess'],\n",
    "    \"language\":[\"Python\", \"C\", \"Java\", \"Python\"]\n",
    "}\n",
    "\n",
    "import csv\n",
    "\n",
    "with open('data.csv', mode='w', newline='') as f:\n",
    "    writer = csv.writer(f, delimiter=',')\n",
    "    writer.writerow(data.keys())\n",
    "    \n",
    "    for i in range(len(data['name'])):\n",
    "        writer.writerow([data['name'][i], data['language'][i]])\n",
    "\n"
   ]
  }
 ],
 "metadata": {
  "kernelspec": {
   "display_name": "Python 3",
   "language": "python",
   "name": "python3"
  },
  "language_info": {
   "codemirror_mode": {
    "name": "ipython",
    "version": 3
   },
   "file_extension": ".py",
   "mimetype": "text/x-python",
   "name": "python",
   "nbconvert_exporter": "python",
   "pygments_lexer": "ipython3",
   "version": "3.10.10"
  },
  "orig_nbformat": 4,
  "vscode": {
   "interpreter": {
    "hash": "0066f0a6668abd54b1df11af2ff038c699030a789386460d2655b25e77c5d17a"
   }
  }
 },
 "nbformat": 4,
 "nbformat_minor": 2
}
